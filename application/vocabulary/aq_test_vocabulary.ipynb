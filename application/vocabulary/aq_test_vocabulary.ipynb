{
 "cells": [
  {
   "cell_type": "code",
   "execution_count": 33,
   "id": "b68736f8",
   "metadata": {},
   "outputs": [
    {
     "data": {
      "text/html": [
       "<div><style>\n",
       ".dataframe > thead > tr,\n",
       ".dataframe > tbody > tr {\n",
       "  text-align: right;\n",
       "  white-space: pre-wrap;\n",
       "}\n",
       "</style>\n",
       "<small>shape: (28, 10)</small><table border=\"1\" class=\"dataframe\"><thead><tr><th>concept_id</th><th>concept_name</th><th>domain_id</th><th>vocabulary_id</th><th>concept_class_id</th><th>standard_concept</th><th>concept_code</th><th>valid_start_date</th><th>valid_end_date</th><th>invalid_reason</th></tr><tr><td>i64</td><td>str</td><td>str</td><td>str</td><td>str</td><td>str</td><td>str</td><td>i64</td><td>i64</td><td>str</td></tr></thead><tbody><tr><td>4234231</td><td>&quot;Pedodontist&quot;</td><td>&quot;Provider&quot;</td><td>&quot;SNOMED&quot;</td><td>&quot;Social Context&quot;</td><td>null</td><td>&quot;90201008&quot;</td><td>20020131</td><td>20991231</td><td>null</td></tr><tr><td>4219480</td><td>&quot;Pediatrician&quot;</td><td>&quot;Provider&quot;</td><td>&quot;SNOMED&quot;</td><td>&quot;Social Context&quot;</td><td>null</td><td>&quot;82296001&quot;</td><td>20020131</td><td>20991231</td><td>null</td></tr><tr><td>1246591</td><td>&quot;Pediatric urologist&quot;</td><td>&quot;Provider&quot;</td><td>&quot;SNOMED&quot;</td><td>&quot;Social Context&quot;</td><td>null</td><td>&quot;45201000087106&quot;</td><td>20231001</td><td>20991231</td><td>null</td></tr><tr><td>4205980</td><td>&quot;Pediatric surgeon&quot;</td><td>&quot;Provider&quot;</td><td>&quot;SNOMED&quot;</td><td>&quot;Social Context&quot;</td><td>null</td><td>&quot;309383003&quot;</td><td>20020131</td><td>20991231</td><td>null</td></tr><tr><td>4202807</td><td>&quot;Pediatric rheumatologist&quot;</td><td>&quot;Provider&quot;</td><td>&quot;SNOMED&quot;</td><td>&quot;Social Context&quot;</td><td>null</td><td>&quot;309335001&quot;</td><td>20020131</td><td>20991231</td><td>null</td></tr><tr><td>&hellip;</td><td>&hellip;</td><td>&hellip;</td><td>&hellip;</td><td>&hellip;</td><td>&hellip;</td><td>&hellip;</td><td>&hellip;</td><td>&hellip;</td><td>&hellip;</td></tr><tr><td>4254198</td><td>&quot;Consultant pediatrician&quot;</td><td>&quot;Provider&quot;</td><td>&quot;SNOMED&quot;</td><td>&quot;Social Context&quot;</td><td>null</td><td>&quot;408798009&quot;</td><td>20040731</td><td>20991231</td><td>null</td></tr><tr><td>4202805</td><td>&quot;Community pediatrician&quot;</td><td>&quot;Provider&quot;</td><td>&quot;SNOMED&quot;</td><td>&quot;Social Context&quot;</td><td>null</td><td>&quot;309329001&quot;</td><td>20020131</td><td>20991231</td><td>null</td></tr><tr><td>4010605</td><td>&quot;Community pediatric nurse&quot;</td><td>&quot;Provider&quot;</td><td>&quot;SNOMED&quot;</td><td>&quot;Social Context&quot;</td><td>null</td><td>&quot;159007002&quot;</td><td>20020131</td><td>20991231</td><td>null</td></tr><tr><td>40299084</td><td>&quot;Community pediatric nurse&quot;</td><td>&quot;Provider&quot;</td><td>&quot;SNOMED&quot;</td><td>&quot;Social Context&quot;</td><td>null</td><td>&quot;135285002&quot;</td><td>20020131</td><td>20020131</td><td>&quot;U&quot;</td></tr><tr><td>4202804</td><td>&quot;Ambulatory pediatrician&quot;</td><td>&quot;Provider&quot;</td><td>&quot;SNOMED&quot;</td><td>&quot;Social Context&quot;</td><td>null</td><td>&quot;309328009&quot;</td><td>20020131</td><td>20991231</td><td>null</td></tr></tbody></table></div>"
      ],
      "text/plain": [
       "shape: (28, 10)\n",
       "┌───────────┬───────────┬───────────┬───────────┬───┬───────────┬───────────┬───────────┬──────────┐\n",
       "│ concept_i ┆ concept_n ┆ domain_id ┆ vocabular ┆ … ┆ concept_c ┆ valid_sta ┆ valid_end ┆ invalid_ │\n",
       "│ d         ┆ ame       ┆ ---       ┆ y_id      ┆   ┆ ode       ┆ rt_date   ┆ _date     ┆ reason   │\n",
       "│ ---       ┆ ---       ┆ str       ┆ ---       ┆   ┆ ---       ┆ ---       ┆ ---       ┆ ---      │\n",
       "│ i64       ┆ str       ┆           ┆ str       ┆   ┆ str       ┆ i64       ┆ i64       ┆ str      │\n",
       "╞═══════════╪═══════════╪═══════════╪═══════════╪═══╪═══════════╪═══════════╪═══════════╪══════════╡\n",
       "│ 4234231   ┆ Pedodonti ┆ Provider  ┆ SNOMED    ┆ … ┆ 90201008  ┆ 20020131  ┆ 20991231  ┆ null     │\n",
       "│           ┆ st        ┆           ┆           ┆   ┆           ┆           ┆           ┆          │\n",
       "│ 4219480   ┆ Pediatric ┆ Provider  ┆ SNOMED    ┆ … ┆ 82296001  ┆ 20020131  ┆ 20991231  ┆ null     │\n",
       "│           ┆ ian       ┆           ┆           ┆   ┆           ┆           ┆           ┆          │\n",
       "│ 1246591   ┆ Pediatric ┆ Provider  ┆ SNOMED    ┆ … ┆ 452010000 ┆ 20231001  ┆ 20991231  ┆ null     │\n",
       "│           ┆ urologist ┆           ┆           ┆   ┆ 87106     ┆           ┆           ┆          │\n",
       "│ 4205980   ┆ Pediatric ┆ Provider  ┆ SNOMED    ┆ … ┆ 309383003 ┆ 20020131  ┆ 20991231  ┆ null     │\n",
       "│           ┆ surgeon   ┆           ┆           ┆   ┆           ┆           ┆           ┆          │\n",
       "│ 4202807   ┆ Pediatric ┆ Provider  ┆ SNOMED    ┆ … ┆ 309335001 ┆ 20020131  ┆ 20991231  ┆ null     │\n",
       "│           ┆ rheumatol ┆           ┆           ┆   ┆           ┆           ┆           ┆          │\n",
       "│           ┆ ogist     ┆           ┆           ┆   ┆           ┆           ┆           ┆          │\n",
       "│ …         ┆ …         ┆ …         ┆ …         ┆ … ┆ …         ┆ …         ┆ …         ┆ …        │\n",
       "│ 4254198   ┆ Consultan ┆ Provider  ┆ SNOMED    ┆ … ┆ 408798009 ┆ 20040731  ┆ 20991231  ┆ null     │\n",
       "│           ┆ t pediatr ┆           ┆           ┆   ┆           ┆           ┆           ┆          │\n",
       "│           ┆ ician     ┆           ┆           ┆   ┆           ┆           ┆           ┆          │\n",
       "│ 4202805   ┆ Community ┆ Provider  ┆ SNOMED    ┆ … ┆ 309329001 ┆ 20020131  ┆ 20991231  ┆ null     │\n",
       "│           ┆ pediatric ┆           ┆           ┆   ┆           ┆           ┆           ┆          │\n",
       "│           ┆ ian       ┆           ┆           ┆   ┆           ┆           ┆           ┆          │\n",
       "│ 4010605   ┆ Community ┆ Provider  ┆ SNOMED    ┆ … ┆ 159007002 ┆ 20020131  ┆ 20991231  ┆ null     │\n",
       "│           ┆ pediatric ┆           ┆           ┆   ┆           ┆           ┆           ┆          │\n",
       "│           ┆ nurse     ┆           ┆           ┆   ┆           ┆           ┆           ┆          │\n",
       "│ 40299084  ┆ Community ┆ Provider  ┆ SNOMED    ┆ … ┆ 135285002 ┆ 20020131  ┆ 20020131  ┆ U        │\n",
       "│           ┆ pediatric ┆           ┆           ┆   ┆           ┆           ┆           ┆          │\n",
       "│           ┆ nurse     ┆           ┆           ┆   ┆           ┆           ┆           ┆          │\n",
       "│ 4202804   ┆ Ambulator ┆ Provider  ┆ SNOMED    ┆ … ┆ 309328009 ┆ 20020131  ┆ 20991231  ┆ null     │\n",
       "│           ┆ y pediatr ┆           ┆           ┆   ┆           ┆           ┆           ┆          │\n",
       "│           ┆ ician     ┆           ┆           ┆   ┆           ┆           ┆           ┆          │\n",
       "└───────────┴───────────┴───────────┴───────────┴───┴───────────┴───────────┴───────────┴──────────┘"
      ]
     },
     "execution_count": 33,
     "metadata": {},
     "output_type": "execute_result"
    }
   ],
   "source": [
    "import polars as pl\n",
    "import pandas as pd\n",
    "\n",
    "lazy_df = pl.scan_csv('CONCEPT.csv', separator='\\t', encoding='utf8', quote_char=None)\n",
    "# df = lazy_df.collect()\n",
    "# df = pl.read_csv('CONCEPT.csv', separator='\\t', infer_schema_length=0, encoding='utf-8', quote_char=None)\n",
    "# df = pd.read_csv('CONCEPT.CSV', sep='\\t')\n",
    "\n",
    "# df.head()\n",
    "# lazy_df.schema\n",
    "\n",
    "\n",
    "# domains = lazy_df.select(\n",
    "#     pl.col('domain_id')\n",
    "# ).unique().collect()\n",
    "# domains['domain_id'].to_list()\n",
    "\n",
    "\n",
    "df = (\n",
    "    lazy_df\n",
    "    .filter(\n",
    "        pl.col('domain_id') == 'Provider',\n",
    "        pl.col('concept_name').str.contains('(?i)ped')\n",
    "\t)\n",
    "    .sort('concept_name', descending = True)\n",
    ")\n",
    "\n",
    "df.collect()\n",
    "# with open('CONCEPT.CSV', 'r', encoding='utf-8') as f:\n",
    "#     for i, line in enumerate(f):\n",
    "#         print(line.strip())\n",
    "#         if i >= 10: # Imprime as primeiras 10 linhas\n",
    "#             break"
   ]
  }
 ],
 "metadata": {
  "kernelspec": {
   "display_name": "venv_interview",
   "language": "python",
   "name": "python3"
  },
  "language_info": {
   "codemirror_mode": {
    "name": "ipython",
    "version": 3
   },
   "file_extension": ".py",
   "mimetype": "text/x-python",
   "name": "python",
   "nbconvert_exporter": "python",
   "pygments_lexer": "ipython3",
   "version": "3.13.3"
  }
 },
 "nbformat": 4,
 "nbformat_minor": 5
}
